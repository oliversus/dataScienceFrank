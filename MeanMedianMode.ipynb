{
 "cells": [
  {
   "cell_type": "markdown",
   "metadata": {},
   "source": [
    "# Mean, Median, Mode, and introducing NumPy"
   ]
  },
  {
   "cell_type": "markdown",
   "metadata": {},
   "source": [
    "## Mean vs. Median"
   ]
  },
  {
   "cell_type": "markdown",
   "metadata": {},
   "source": [
    "Let's create some fake income data, centered around 27,000 with a normal distribution and standard deviation of 15,000, with 10,000 data points. (We'll discuss those terms more later, if you're not familiar with them.)\n",
    "\n",
    "Then, compute the mean (average) - it should be close to 27,000:"
   ]
  },
  {
   "cell_type": "code",
   "execution_count": 1,
   "metadata": {
    "collapsed": false
   },
   "outputs": [
    {
     "data": {
      "text/plain": [
       "27069.104675633345"
      ]
     },
     "execution_count": 1,
     "metadata": {},
     "output_type": "execute_result"
    }
   ],
   "source": [
    "import numpy as np\n",
    "\n",
    "incomes = np.random.normal(27000, 15000, 10000)\n",
    "np.mean(incomes)"
   ]
  },
  {
   "cell_type": "markdown",
   "metadata": {},
   "source": [
    "We can segment the income data into 50 buckets, and plot it as a histogram:"
   ]
  },
  {
   "cell_type": "code",
   "execution_count": 3,
   "metadata": {
    "collapsed": false
   },
   "outputs": [
    {
     "data": {
      "image/png": "[encoded data removed]",
      "text/plain": [
       "<matplotlib.figure.Figure at 0x7f809072d090>"
      ]
     },
     "metadata": {},
     "output_type": "display_data"
    }
   ],
   "source": [
    "%matplotlib inline\n",
    "import matplotlib.pyplot as plt\n",
    "plt.hist(incomes, 50)\n",
    "plt.show()"
   ]
  },
  {
   "cell_type": "markdown",
   "metadata": {},
   "source": [
    "Now compute the median - since we have a nice, even distribution it too should be close to 27,000:"
   ]
  },
  {
   "cell_type": "code",
   "execution_count": 4,
   "metadata": {
    "collapsed": false
   },
   "outputs": [
    {
     "data": {
      "text/plain": [
       "26972.211906007858"
      ]
     },
     "execution_count": 4,
     "metadata": {},
     "output_type": "execute_result"
    }
   ],
   "source": [
    "np.median(incomes)"
   ]
  },
  {
   "cell_type": "markdown",
   "metadata": {},
   "source": [
    "Now we'll add Donald Trump into the mix. Darn income inequality!"
   ]
  },
  {
   "cell_type": "code",
   "execution_count": 5,
   "metadata": {
    "collapsed": false
   },
   "outputs": [],
   "source": [
    "incomes = np.append(incomes, [1000000000])"
   ]
  },
  {
   "cell_type": "markdown",
   "metadata": {},
   "source": [
    "The median won't change much, but the mean does:"
   ]
  },
  {
   "cell_type": "code",
   "execution_count": 6,
   "metadata": {
    "collapsed": false
   },
   "outputs": [
    {
     "data": {
      "text/plain": [
       "26973.492370749693"
      ]
     },
     "execution_count": 6,
     "metadata": {},
     "output_type": "execute_result"
    }
   ],
   "source": [
    "np.median(incomes)"
   ]
  },
  {
   "cell_type": "code",
   "execution_count": 7,
   "metadata": {
    "collapsed": false
   },
   "outputs": [
    {
     "data": {
      "text/plain": [
       "127056.39903572979"
      ]
     },
     "execution_count": 7,
     "metadata": {},
     "output_type": "execute_result"
    }
   ],
   "source": [
    "np.mean(incomes)"
   ]
  },
  {
   "cell_type": "markdown",
   "metadata": {},
   "source": [
    "## Mode"
   ]
  },
  {
   "cell_type": "markdown",
   "metadata": {},
   "source": [
    "Next, let's generate some fake age data for 500 people:"
   ]
  },
  {
   "cell_type": "code",
   "execution_count": 8,
   "metadata": {
    "collapsed": false
   },
   "outputs": [
    {
     "data": {
      "text/plain": [
       "array([25, 78, 65, 32, 51, 20, 78, 38, 22, 75, 59, 19, 37, 74, 69, 22, 21,\n",
       "       59, 61, 63, 59, 28, 36, 43, 87, 46, 37, 81, 72, 67, 50, 55, 48, 64,\n",
       "       39, 55, 49, 55, 20, 43, 67, 20, 84, 22, 77, 60, 28, 36, 27, 56, 46,\n",
       "       80, 83, 19, 83, 31, 80, 54, 50, 51, 70, 65, 68, 83, 65, 76, 54, 80,\n",
       "       53, 68, 32, 63, 73, 88, 73, 30, 77, 86, 37, 57, 52, 85, 22, 29, 18,\n",
       "       35, 48, 54, 56, 59, 53, 88, 38, 43, 36, 64, 62, 55, 80, 47, 23, 61,\n",
       "       25, 43, 57, 31, 89, 87, 85, 85, 53, 21, 33, 43, 50, 53, 65, 30, 61,\n",
       "       49, 79, 70, 80, 87, 34, 82, 71, 52, 68, 84, 49, 65, 40, 82, 25, 39,\n",
       "       47, 34, 29, 66, 21, 34, 89, 24, 56, 24, 84, 57, 83, 35, 19, 70, 87,\n",
       "       49, 68, 37, 26, 31, 33, 31, 59, 45, 86, 32, 35, 29, 78, 44, 65, 59,\n",
       "       25, 50, 65, 44, 46, 27, 69, 29, 60, 35, 48, 51, 19, 28, 61, 72, 32,\n",
       "       45, 79, 88, 78, 29, 30, 46, 70, 27, 55, 75, 78, 29, 30, 87, 56, 54,\n",
       "       48, 42, 61, 84, 57, 51, 39, 52, 84, 49, 64, 48, 52, 70, 50, 85, 52,\n",
       "       75, 38, 44, 84, 79, 49, 78, 45, 70, 58, 85, 42, 56, 38, 65, 52, 39,\n",
       "       84, 51, 47, 53, 86, 45, 58, 82, 64, 84, 54, 45, 86, 65, 77, 24, 43,\n",
       "       48, 32, 30, 20, 62, 24, 41, 47, 41, 53, 44, 84, 75, 62, 88, 71, 28,\n",
       "       64, 47, 80, 61, 24, 52, 21, 61, 60, 38, 78, 72, 60, 74, 74, 57, 27,\n",
       "       18, 62, 73, 33, 87, 52, 82, 88, 55, 86, 74, 48, 83, 73, 42, 47, 22,\n",
       "       57, 55, 84, 45, 87, 25, 25, 21, 37, 44, 75, 62, 70, 72, 75, 54, 88,\n",
       "       40, 54, 76, 54, 22, 29, 70, 66, 77, 21, 26, 73, 51, 50, 80, 77, 28,\n",
       "       67, 68, 21, 51, 77, 80, 67, 59, 56, 25, 19, 19, 41, 18, 65, 25, 79,\n",
       "       66, 80, 32, 61, 47, 72, 87, 62, 53, 38, 54, 54, 88, 32, 20, 44, 62,\n",
       "       83, 62, 71, 89, 28, 65, 60, 67, 62, 41, 73, 68, 30, 88, 76, 39, 79,\n",
       "       66, 62, 80, 39, 49, 42, 48, 31, 46, 25, 76, 55, 69, 32, 58, 25, 89,\n",
       "       53, 30, 22, 63, 18, 68, 87, 75, 42, 32, 31, 41, 76, 40, 25, 74, 74,\n",
       "       47, 81, 23, 38, 54, 48, 88, 77, 76, 69, 68, 39, 82, 53, 38, 82, 65,\n",
       "       43, 68, 36, 86, 27, 75, 58, 61, 23, 50, 32, 54, 40, 89, 33, 50, 26,\n",
       "       29, 52, 73, 88, 53, 85, 27, 43, 43, 85, 40, 47, 26, 45, 81, 21, 78,\n",
       "       54, 75, 59, 39, 31, 56, 34, 47, 28, 52, 29, 64, 21, 77, 24, 53, 21,\n",
       "       20, 40, 89, 61, 75, 52, 57])"
      ]
     },
     "execution_count": 8,
     "metadata": {},
     "output_type": "execute_result"
    }
   ],
   "source": [
    "ages = np.random.randint(18, high=90, size=500)\n",
    "ages"
   ]
  },
  {
   "cell_type": "code",
   "execution_count": 9,
   "metadata": {
    "collapsed": false
   },
   "outputs": [
    {
     "data": {
      "text/plain": [
       "ModeResult(mode=array([54]), count=array([13]))"
      ]
     },
     "execution_count": 9,
     "metadata": {},
     "output_type": "execute_result"
    }
   ],
   "source": [
    "from scipy import stats\n",
    "stats.mode(ages)"
   ]
  },
  {
   "cell_type": "code",
   "execution_count": null,
   "metadata": {
    "collapsed": false
   },
   "outputs": [],
   "source": []
  }
 ],
 "metadata": {
  "kernelspec": {
   "display_name": "Python 2",
   "language": "python",
   "name": "python2"
  },
  "language_info": {
   "codemirror_mode": {
    "name": "ipython",
    "version": 2
   },
   "file_extension": ".py",
   "mimetype": "text/x-python",
   "name": "python",
   "nbconvert_exporter": "python",
   "pygments_lexer": "ipython2",
   "version": "2.7.11"
  }
 },
 "nbformat": 4,
 "nbformat_minor": 0
}
